{
 "cells": [
  {
   "cell_type": "code",
   "execution_count": 3,
   "id": "7d2fadba-85a2-483e-b46e-67c21c8a805e",
   "metadata": {},
   "outputs": [],
   "source": [
    "a= \"anuj\""
   ]
  },
  {
   "cell_type": "code",
   "execution_count": 4,
   "id": "d5b46a3d-5e85-406c-b3a7-34831ee3e414",
   "metadata": {},
   "outputs": [
    {
     "data": {
      "text/plain": [
       "str"
      ]
     },
     "execution_count": 4,
     "metadata": {},
     "output_type": "execute_result"
    }
   ],
   "source": [
    "type(a)"
   ]
  },
  {
   "cell_type": "code",
   "execution_count": 14,
   "id": "7a4a6a40-2e7d-42e5-b4c7-814acc435c96",
   "metadata": {},
   "outputs": [],
   "source": [
    "t=(12,3,4,5,6,7,\"anuj\", True,6*8j)\n"
   ]
  },
  {
   "cell_type": "code",
   "execution_count": 15,
   "id": "e427eb07-773d-4eca-9ef1-17a3958d070b",
   "metadata": {},
   "outputs": [
    {
     "data": {
      "text/plain": [
       "tuple"
      ]
     },
     "execution_count": 15,
     "metadata": {},
     "output_type": "execute_result"
    }
   ],
   "source": [
    "type(t)"
   ]
  },
  {
   "cell_type": "code",
   "execution_count": 8,
   "id": "9a046454-ffd0-4c2f-9d41-b3a896c6cb38",
   "metadata": {},
   "outputs": [],
   "source": [
    "f=7878.78"
   ]
  },
  {
   "cell_type": "code",
   "execution_count": 9,
   "id": "bea8700b-39a5-441e-ac3c-0c54263bcbf2",
   "metadata": {},
   "outputs": [
    {
     "data": {
      "text/plain": [
       "float"
      ]
     },
     "execution_count": 9,
     "metadata": {},
     "output_type": "execute_result"
    }
   ],
   "source": [
    "type(f)"
   ]
  },
  {
   "cell_type": "code",
   "execution_count": 18,
   "id": "1a12efef-643a-4cf3-adca-de1dcd513056",
   "metadata": {},
   "outputs": [],
   "source": [
    "l={1,2,3"
   ]
  },
  {
   "cell_type": "code",
   "execution_count": 19,
   "id": "7d9ea47e-13bd-4b2c-a9b5-4531dd2580b2",
   "metadata": {},
   "outputs": [
    {
     "data": {
      "text/plain": [
       "list"
      ]
     },
     "execution_count": 22,
     "metadata": {},
     "output_type": "execute_result"
    }
   ],
   "source": [
    "type(l)"
   ]
  },
  {
   "cell_type": "code",
   "execution_count": 41,
   "id": "130119b2-1100-47e6-8dc4-0ec8946c1d05",
   "metadata": {},
   "outputs": [],
   "source": [
    "var1 = ''"
   ]
  },
  {
   "cell_type": "code",
   "execution_count": 42,
   "id": "d2f27975-b315-48a2-a015-7dd151c58a72",
   "metadata": {},
   "outputs": [
    {
     "data": {
      "text/plain": [
       "str"
      ]
     },
     "execution_count": 42,
     "metadata": {},
     "output_type": "execute_result"
    }
   ],
   "source": [
    "type(var1)"
   ]
  },
  {
   "cell_type": "code",
   "execution_count": 39,
   "id": "39663671-af77-48c4-b471-6636b028f0b3",
   "metadata": {},
   "outputs": [],
   "source": [
    "var2 = '[ DS , ML , Python]'"
   ]
  },
  {
   "cell_type": "code",
   "execution_count": 40,
   "id": "13746e69-c0cf-4263-a27e-d51e3b58f3a3",
   "metadata": {},
   "outputs": [
    {
     "data": {
      "text/plain": [
       "list"
      ]
     },
     "execution_count": 40,
     "metadata": {},
     "output_type": "execute_result"
    }
   ],
   "source": [
    "type(var3)"
   ]
  },
  {
   "cell_type": "code",
   "execution_count": 36,
   "id": "34028396-8cf8-4f8d-b9a4-7a066d574085",
   "metadata": {},
   "outputs": [],
   "source": [
    "var3 = ['DS' , 'ML' , 'Python' ]"
   ]
  },
  {
   "cell_type": "code",
   "execution_count": 37,
   "id": "0d86fbcb-8e01-4052-92f1-03ff7fd9296e",
   "metadata": {},
   "outputs": [
    {
     "data": {
      "text/plain": [
       "list"
      ]
     },
     "execution_count": 37,
     "metadata": {},
     "output_type": "execute_result"
    }
   ],
   "source": [
    "type(var3)"
   ]
  },
  {
   "cell_type": "code",
   "execution_count": 30,
   "id": "654b2af8-9a08-4dc6-b8ce-3c5cfc54d2ae",
   "metadata": {},
   "outputs": [],
   "source": [
    "var4 = 1"
   ]
  },
  {
   "cell_type": "code",
   "execution_count": 31,
   "id": "53f5dc3e-461a-4e1d-9822-092bd7b2b3ff",
   "metadata": {},
   "outputs": [
    {
     "data": {
      "text/plain": [
       "int"
      ]
     },
     "execution_count": 31,
     "metadata": {},
     "output_type": "execute_result"
    }
   ],
   "source": [
    "type(var4)"
   ]
  },
  {
   "cell_type": "code",
   "execution_count": 43,
   "id": "08874edb-125b-4021-bbb8-0f5b7cbc0fd2",
   "metadata": {},
   "outputs": [
    {
     "data": {
      "text/plain": [
       "1.0"
      ]
     },
     "execution_count": 43,
     "metadata": {},
     "output_type": "execute_result"
    }
   ],
   "source": [
    "8/8"
   ]
  },
  {
   "cell_type": "code",
   "execution_count": 44,
   "id": "546014f7-559a-41e1-8e94-08d1258a3438",
   "metadata": {},
   "outputs": [
    {
     "data": {
      "text/plain": [
       "1"
      ]
     },
     "execution_count": 44,
     "metadata": {},
     "output_type": "execute_result"
    }
   ],
   "source": [
    "5%2"
   ]
  },
  {
   "cell_type": "code",
   "execution_count": 46,
   "id": "dbaf16aa-35fb-46bb-a021-819ffab36cfe",
   "metadata": {},
   "outputs": [
    {
     "data": {
      "text/plain": [
       "1"
      ]
     },
     "execution_count": 46,
     "metadata": {},
     "output_type": "execute_result"
    }
   ],
   "source": [
    "5//5"
   ]
  },
  {
   "cell_type": "code",
   "execution_count": 47,
   "id": "0995532c-5432-4d1c-be31-afc33b9540b6",
   "metadata": {},
   "outputs": [
    {
     "data": {
      "text/plain": [
       "524744532468751923546122657597368049278513737089035272057324643668607677682302892208099365234375"
      ]
     },
     "execution_count": 47,
     "metadata": {},
     "output_type": "execute_result"
    }
   ],
   "source": [
    "55**55"
   ]
  },
  {
   "cell_type": "code",
   "execution_count": 48,
   "id": "fbc56da4-8791-42c1-8f54-bbab518ef99d",
   "metadata": {},
   "outputs": [],
   "source": [
    "l=[1,\"anuj\",23,True,32,False,56.56,6-6j,\"europe\",\"asia\"]"
   ]
  },
  {
   "cell_type": "code",
   "execution_count": 49,
   "id": "988270f2-bfa0-4ffa-8d7d-df1d50da944c",
   "metadata": {},
   "outputs": [
    {
     "data": {
      "text/plain": [
       "list"
      ]
     },
     "execution_count": 49,
     "metadata": {},
     "output_type": "execute_result"
    }
   ],
   "source": [
    "type(l)"
   ]
  },
  {
   "cell_type": "code",
   "execution_count": 50,
   "id": "7fd87f86-cf3b-4afd-b3e3-2cf2e81d2b02",
   "metadata": {},
   "outputs": [
    {
     "name": "stdout",
     "output_type": "stream",
     "text": [
      "<class 'int'>\n",
      "1\n",
      "<class 'str'>\n",
      "anuj\n",
      "<class 'int'>\n",
      "23\n",
      "<class 'bool'>\n",
      "True\n",
      "<class 'int'>\n",
      "32\n",
      "<class 'bool'>\n",
      "False\n",
      "<class 'float'>\n",
      "56.56\n",
      "<class 'complex'>\n",
      "(6-6j)\n",
      "<class 'str'>\n",
      "europe\n",
      "<class 'str'>\n",
      "asia\n",
      "this will be executed once for loop will comoplete itself succefully\n"
     ]
    }
   ],
   "source": [
    "for i in l : \n",
    "    print(type(i))\n",
    "    if i == 6 :\n",
    "        continue\n",
    "    print(i)\n",
    "else :\n",
    "    print(\"this will be executed once for loop will comoplete itself succefully\")"
   ]
  },
  {
   "cell_type": "code",
   "execution_count": 52,
   "id": "77c619f9-20b3-4d19-aa29-f0e663545484",
   "metadata": {},
   "outputs": [
    {
     "name": "stdout",
     "output_type": "stream",
     "text": [
      "The number A is divisible by B, and it can be divided 1 times.\n"
     ]
    }
   ],
   "source": [
    "A = 42  \n",
    "B = 7  \n",
    "count = 0  \n",
    "\n",
    "while A % B == 0:\n",
    "    A = A / B\n",
    "    count += 1\n",
    "\n",
    "if count > 0:\n",
    "    print(f\"The number A is divisible by B, and it can be divided {count} times.\")\n",
    "else:\n",
    "    print(\"The number A is not divisible by B.\")\n"
   ]
  },
  {
   "cell_type": "code",
   "execution_count": 61,
   "id": "b30b0e6e-5372-4c8d-88f0-59e475eef9d1",
   "metadata": {},
   "outputs": [
    {
     "name": "stdout",
     "output_type": "stream",
     "text": [
      "10 is not divisible by 3.\n",
      "21 is divisible by 3.\n",
      "36 is divisible by 3.\n",
      "7 is not divisible by 3.\n",
      "48 is divisible by 3.\n",
      "53 is not divisible by 3.\n",
      "27 is divisible by 3.\n",
      "15 is divisible by 3.\n",
      "62 is not divisible by 3.\n",
      "33 is divisible by 3.\n",
      "9 is divisible by 3.\n",
      "30 is divisible by 3.\n",
      "17 is not divisible by 3.\n",
      "25 is not divisible by 3.\n",
      "42 is divisible by 3.\n",
      "55 is not divisible by 3.\n",
      "12 is divisible by 3.\n",
      "39 is divisible by 3.\n",
      "4 is not divisible by 3.\n",
      "20 is not divisible by 3.\n",
      "44 is not divisible by 3.\n",
      "11 is not divisible by 3.\n",
      "31 is not divisible by 3.\n",
      "16 is not divisible by 3.\n",
      "38 is not divisible by 3.\n"
     ]
    }
   ],
   "source": [
    "l = [10, 21, 36, 7, 48, 53, 27, 15, 62, 33, 9, 30, 17, 25, 42, 55, 12, 39, 4, 20, 44, 11, 31, 16, 38]\n",
    "\n",
    "for i in l:\n",
    "    if i % 3 == 0:\n",
    "        print(f\"{i} is divisible by 3.\")\n",
    "    else:\n",
    "        print(f\"{i} is not divisible by 3.\")\n"
   ]
  },
  {
   "cell_type": "code",
   "execution_count": 83,
   "id": "67af1149-e76d-42e3-a7fb-7723081627cd",
   "metadata": {},
   "outputs": [
    {
     "name": "stdout",
     "output_type": "stream",
     "text": [
      "[1, 2, 5]\n"
     ]
    }
   ],
   "source": [
    "l = [1, 2, 3]\n",
    "l[2]=5\n",
    "print(l)  \n"
   ]
  },
  {
   "cell_type": "code",
   "execution_count": 85,
   "id": "74c1adad-438f-4bdf-a28a-ee9931b277d3",
   "metadata": {},
   "outputs": [],
   "source": [
    "a=\"anuj\"\n"
   ]
  },
  {
   "cell_type": "code",
   "execution_count": 91,
   "id": "4861129b-87f0-4ada-9086-cb9a966581f3",
   "metadata": {},
   "outputs": [
    {
     "ename": "TypeError",
     "evalue": "'str' object does not support item assignment",
     "output_type": "error",
     "traceback": [
      "\u001b[0;31m---------------------------------------------------------------------------\u001b[0m",
      "\u001b[0;31mTypeError\u001b[0m                                 Traceback (most recent call last)",
      "Cell \u001b[0;32mIn[91], line 1\u001b[0m\n\u001b[0;32m----> 1\u001b[0m \u001b[43ma\u001b[49m\u001b[43m[\u001b[49m\u001b[38;5;241;43m0\u001b[39;49m\u001b[43m]\u001b[49m\u001b[38;5;241m=\u001b[39m\u001b[38;5;124m\"\u001b[39m\u001b[38;5;124mk\u001b[39m\u001b[38;5;124m\"\u001b[39m\n",
      "\u001b[0;31mTypeError\u001b[0m: 'str' object does not support item assignment"
     ]
    }
   ],
   "source": [
    "a[0]=\"k\""
   ]
  },
  {
   "cell_type": "code",
   "execution_count": null,
   "id": "2fe3399b-40b1-450e-a924-4ab53dbb3db9",
   "metadata": {},
   "outputs": [],
   "source": []
  }
 ],
 "metadata": {
  "kernelspec": {
   "display_name": "Python 3 (ipykernel)",
   "language": "python",
   "name": "python3"
  },
  "language_info": {
   "codemirror_mode": {
    "name": "ipython",
    "version": 3
   },
   "file_extension": ".py",
   "mimetype": "text/x-python",
   "name": "python",
   "nbconvert_exporter": "python",
   "pygments_lexer": "ipython3",
   "version": "3.10.8"
  }
 },
 "nbformat": 4,
 "nbformat_minor": 5
}
